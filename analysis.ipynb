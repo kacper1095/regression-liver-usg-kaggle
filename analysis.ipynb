{
 "cells": [
  {
   "cell_type": "code",
   "execution_count": 19,
   "metadata": {},
   "outputs": [],
   "source": [
    "import matplotlib.pyplot as plt\n",
    "import cv2\n",
    "\n",
    "from pathlib import Path\n",
    "import ipywidgets as widgets\n",
    "import tqdm\n",
    "import imgaug.augmenters as iaa\n",
    "import numpy as np\n",
    "from skimage import exposure\n",
    "from collections import defaultdict\n",
    "from ipywidgets import interact\n",
    "import imutils"
   ]
  },
  {
   "cell_type": "code",
   "execution_count": 5,
   "metadata": {},
   "outputs": [
    {
     "data": {
      "text/plain": [
       "(1333, 1418)"
      ]
     },
     "execution_count": 5,
     "metadata": {},
     "output_type": "execute_result"
    }
   ],
   "source": [
    "negative_samples = list(Path(\"/data/Datasets/usg-kaggle/train/0\").rglob(\"*radial*\"))\n",
    "positive_samples = list(Path(\"/data/Datasets/usg-kaggle/train/1\").rglob(\"*radial*\"))\n",
    "\n",
    "len(negative_samples), len(positive_samples)"
   ]
  },
  {
   "cell_type": "code",
   "execution_count": 3,
   "metadata": {},
   "outputs": [
    {
     "data": {
      "application/vnd.jupyter.widget-view+json": {
       "model_id": "ae8db91bc9f94b29ba301636cfff8f07",
       "version_major": 2,
       "version_minor": 0
      },
      "text/plain": [
       "interactive(children=(IntSlider(value=0, description='index', max=1332), IntSlider(value=0, description='denoi…"
      ]
     },
     "metadata": {},
     "output_type": "display_data"
    }
   ],
   "source": [
    "negative_list = widgets.IntSlider(\n",
    "    min=0,\n",
    "    max=len(negative_samples) - 1,\n",
    "    value=0\n",
    ")\n",
    "\n",
    "denoising_wid = widgets.IntSlider(\n",
    "    min=0,\n",
    "    max=110,\n",
    "    value=0\n",
    ")\n",
    "@interact(index=negative_list, denoising=denoising_wid)\n",
    "def show_negative(index, denoising):\n",
    "    path = negative_samples[index]\n",
    "    img = cv2.imread(path.as_posix())[..., ::-1]\n",
    "    img = cv2.cvtColor(img, cv2.COLOR_RGB2GRAY)\n",
    "    img = cv2.fastNlMeansDenoising(img, h=denoising)\n",
    "    plt.imshow(img, cmap=\"gray\")"
   ]
  },
  {
   "cell_type": "code",
   "execution_count": 4,
   "metadata": {},
   "outputs": [
    {
     "data": {
      "application/vnd.jupyter.widget-view+json": {
       "model_id": "5054fd2c21864d4a93a21ef298f533de",
       "version_major": 2,
       "version_minor": 0
      },
      "text/plain": [
       "interactive(children=(IntSlider(value=0, description='index', max=1332), Output()), _dom_classes=('widget-inte…"
      ]
     },
     "metadata": {},
     "output_type": "display_data"
    }
   ],
   "source": [
    "positive_list = widgets.IntSlider(\n",
    "    min=0,\n",
    "    max=len(negative_samples) - 1,\n",
    "    value=0\n",
    ")\n",
    "@interact(index=positive_list)\n",
    "def show_negative(index):\n",
    "    path = positive_samples[index]\n",
    "    img = cv2.imread(path.as_posix())[..., ::-1]\n",
    "    img = cv2.cvtColor(img, cv2.COLOR_RGB2GRAY)\n",
    "    img = exposure.equalize_hist(img)\n",
    "    plt.imshow(img, cmap=\"gray\")"
   ]
  },
  {
   "cell_type": "code",
   "execution_count": 5,
   "metadata": {},
   "outputs": [
    {
     "data": {
      "application/vnd.jupyter.widget-view+json": {
       "model_id": "98b2f1071e3f42a1863498bc6f3d5bcb",
       "version_major": 2,
       "version_minor": 0
      },
      "text/plain": [
       "HBox(children=(IntProgress(value=0, max=2751), HTML(value='')))"
      ]
     },
     "metadata": {},
     "output_type": "display_data"
    },
    {
     "name": "stdout",
     "output_type": "stream",
     "text": [
      "\n"
     ]
    }
   ],
   "source": [
    "widths, heights = [], []\n",
    "total_counts = np.zeros((255,))\n",
    "for p in tqdm.tqdm_notebook(positive_samples + negative_samples):\n",
    "    an_img = cv2.imread(p.as_posix())\n",
    "    widths.append(an_img.shape[1])\n",
    "    heights.append(an_img.shape[0])\n",
    "    hist = np.histogram(an_img, bins=np.arange(0, 256))\n",
    "    total_counts += hist[0]"
   ]
  },
  {
   "cell_type": "code",
   "execution_count": 6,
   "metadata": {},
   "outputs": [
    {
     "data": {
      "image/png": "[encoded data removed]",
      "text/plain": [
       "<Figure size 432x288 with 1 Axes>"
      ]
     },
     "metadata": {
      "needs_background": "light"
     },
     "output_type": "display_data"
    }
   ],
   "source": [
    "plt.scatter(widths, heights, s=0.1)\n",
    "plt.ylabel(\"Heights\")\n",
    "plt.xlabel(\"Widths\")\n",
    "plt.grid(False)"
   ]
  },
  {
   "cell_type": "code",
   "execution_count": 7,
   "metadata": {},
   "outputs": [
    {
     "data": {
      "text/plain": [
       "<BarContainer object of 255 artists>"
      ]
     },
     "execution_count": 7,
     "metadata": {},
     "output_type": "execute_result"
    },
    {
     "data": {
      "image/png": "[encoded data removed]",
      "text/plain": [
       "<Figure size 432x288 with 1 Axes>"
      ]
     },
     "metadata": {
      "needs_background": "light"
     },
     "output_type": "display_data"
    }
   ],
   "source": [
    "plt.bar(np.arange(0, 255), total_counts / total_counts.sum())"
   ]
  },
  {
   "cell_type": "code",
   "execution_count": 6,
   "metadata": {},
   "outputs": [
    {
     "ename": "NameError",
     "evalue": "name 'widths' is not defined",
     "output_type": "error",
     "traceback": [
      "\u001b[0;31m---------------------------------------------------------------------------\u001b[0m",
      "\u001b[0;31mNameError\u001b[0m                                 Traceback (most recent call last)",
      "\u001b[0;32m<ipython-input-6-4509b43ac6c1>\u001b[0m in \u001b[0;36m<module>\u001b[0;34m\u001b[0m\n\u001b[0;32m----> 1\u001b[0;31m \u001b[0mnp\u001b[0m\u001b[0;34m.\u001b[0m\u001b[0mmean\u001b[0m\u001b[0;34m(\u001b[0m\u001b[0mwidths\u001b[0m\u001b[0;34m)\u001b[0m\u001b[0;34m,\u001b[0m \u001b[0mnp\u001b[0m\u001b[0;34m.\u001b[0m\u001b[0mmean\u001b[0m\u001b[0;34m(\u001b[0m\u001b[0mheights\u001b[0m\u001b[0;34m)\u001b[0m\u001b[0;34m\u001b[0m\u001b[0;34m\u001b[0m\u001b[0m\n\u001b[0m",
      "\u001b[0;31mNameError\u001b[0m: name 'widths' is not defined"
     ]
    }
   ],
   "source": [
    "np.mean(widths), np.mean(heights)"
   ]
  },
  {
   "cell_type": "code",
   "execution_count": 7,
   "metadata": {},
   "outputs": [
    {
     "ename": "NameError",
     "evalue": "name 'widths' is not defined",
     "output_type": "error",
     "traceback": [
      "\u001b[0;31m---------------------------------------------------------------------------\u001b[0m",
      "\u001b[0;31mNameError\u001b[0m                                 Traceback (most recent call last)",
      "\u001b[0;32m<ipython-input-7-8bba54719e52>\u001b[0m in \u001b[0;36m<module>\u001b[0;34m\u001b[0m\n\u001b[0;32m----> 1\u001b[0;31m \u001b[0mnp\u001b[0m\u001b[0;34m.\u001b[0m\u001b[0mstd\u001b[0m\u001b[0;34m(\u001b[0m\u001b[0mwidths\u001b[0m\u001b[0;34m)\u001b[0m\u001b[0;34m,\u001b[0m \u001b[0mnp\u001b[0m\u001b[0;34m.\u001b[0m\u001b[0mstd\u001b[0m\u001b[0;34m(\u001b[0m\u001b[0mheights\u001b[0m\u001b[0;34m)\u001b[0m\u001b[0;34m\u001b[0m\u001b[0;34m\u001b[0m\u001b[0m\n\u001b[0m",
      "\u001b[0;31mNameError\u001b[0m: name 'widths' is not defined"
     ]
    }
   ],
   "source": [
    "np.std(widths), np.std(heights)"
   ]
  },
  {
   "cell_type": "code",
   "execution_count": 8,
   "metadata": {},
   "outputs": [
    {
     "data": {
      "application/vnd.jupyter.widget-view+json": {
       "model_id": "68f1b101110e4faebf5a5e1f6a8fba78",
       "version_major": 2,
       "version_minor": 0
      },
      "text/plain": [
       "interactive(children=(IntSlider(value=0, description='index', max=1417), FloatSlider(value=0.0, description='a…"
      ]
     },
     "metadata": {},
     "output_type": "display_data"
    }
   ],
   "source": [
    "alpha = widgets.FloatSlider(\n",
    "    value=0.0,\n",
    "    min=0.0,\n",
    "    max=10,\n",
    ")\n",
    "sigma = widgets.FloatSlider(\n",
    "    value=0.0,\n",
    "    min=0.0,\n",
    "    max=10\n",
    ")\n",
    "\n",
    "positive_list = widgets.IntSlider(\n",
    "    min=0,\n",
    "    max=len(positive_samples) - 1,\n",
    "    value=0\n",
    ")\n",
    "\n",
    "@interact(index=positive_list, alpha=alpha, sigma=sigma)\n",
    "def show_elastic(index, alpha, sigma):\n",
    "    path = positive_samples[index]\n",
    "    img = cv2.imread(path.as_posix(), 0)\n",
    "    \n",
    "    kek = iaa.Sequential(\n",
    "        [\n",
    "            iaa.ElasticTransformation(alpha=alpha, sigma=sigma, mode=\"wrap\"),\n",
    "            iaa.Affine(\n",
    "                rotate=30,\n",
    "                mode=\"symmetric\"\n",
    "            )\n",
    "        ]\n",
    "    )\n",
    "    \n",
    "    img = kek.augment_image(img)\n",
    "    plt.imshow(img, cmap=\"gray\")"
   ]
  },
  {
   "cell_type": "code",
   "execution_count": 10,
   "metadata": {},
   "outputs": [
    {
     "data": {
      "text/plain": [
       "(1333, 1418)"
      ]
     },
     "execution_count": 10,
     "metadata": {},
     "output_type": "execute_result"
    }
   ],
   "source": [
    "whole_negative_samples = list(Path(\"/data/Datasets/usg-kaggle/train/0\").rglob(\"lower.png\"))\n",
    "whole_positive_samples = list(Path(\"/data/Datasets/usg-kaggle/train/1\").rglob(\"lower.png\"))\n",
    "\n",
    "len(whole_negative_samples), len(whole_positive_samples)"
   ]
  },
  {
   "cell_type": "code",
   "execution_count": 29,
   "metadata": {},
   "outputs": [
    {
     "data": {
      "application/vnd.jupyter.widget-view+json": {
       "model_id": "6f734b2f1f6b4ee1b9bc9a4018e07bb0",
       "version_major": 2,
       "version_minor": 0
      },
      "text/plain": [
       "interactive(children=(IntSlider(value=0, description='index', max=1417), FloatSlider(value=25.0, description='…"
      ]
     },
     "metadata": {},
     "output_type": "display_data"
    }
   ],
   "source": [
    "alpha = widgets.FloatSlider(\n",
    "    value=25,\n",
    "    min=0.0,\n",
    "    max=30,\n",
    ")\n",
    "sigma = widgets.FloatSlider(\n",
    "    value=10,\n",
    "    min=0.0,\n",
    "    max=30\n",
    ")\n",
    "\n",
    "positive_list = widgets.IntSlider(\n",
    "    min=0,\n",
    "    max=len(positive_samples) - 1,\n",
    "    value=0\n",
    ")\n",
    "\n",
    "@interact(index=positive_list, alpha=alpha, sigma=sigma)\n",
    "def show_elastic(index, alpha, sigma):\n",
    "    path = positive_samples[index]\n",
    "    img = cv2.imread(path.as_posix(), 0)\n",
    "    \n",
    "    kek = iaa.Sequential(\n",
    "        [\n",
    "            iaa.ElasticTransformation(alpha=alpha, sigma=sigma, mode=\"wrap\"),\n",
    "            iaa.Affine(\n",
    "                rotate=-10,\n",
    "                mode=\"symmetric\"\n",
    "            )\n",
    "        ]\n",
    "    )\n",
    "    \n",
    "    img = kek.augment_image(img)\n",
    "    plt.imshow(img, cmap=\"gray\")"
   ]
  },
  {
   "cell_type": "code",
   "execution_count": 22,
   "metadata": {},
   "outputs": [
    {
     "data": {
      "application/vnd.jupyter.widget-view+json": {
       "model_id": "b4110d6a8c6742ada689b32eb01b50a8",
       "version_major": 2,
       "version_minor": 0
      },
      "text/plain": [
       "interactive(children=(IntSlider(value=0, description='index', max=1417), IntRangeSlider(value=(250, 800), desc…"
      ]
     },
     "metadata": {},
     "output_type": "display_data"
    }
   ],
   "source": [
    "height, width = cv2.imread(whole_negative_samples[0].as_posix(), 0).shape\n",
    "cuts_width = widgets.IntRangeSlider(\n",
    "    value=(250, width - 250),\n",
    "    min=0,\n",
    "    max=width,\n",
    ")\n",
    "\n",
    "cuts_height = widgets.IntRangeSlider(\n",
    "    value=(10, height - 10),\n",
    "    min=0,\n",
    "    max=height,\n",
    ")\n",
    "\n",
    "\n",
    "whole_positive_list = widgets.IntSlider(\n",
    "    min=0,\n",
    "    max=len(whole_positive_samples) - 1,\n",
    "    value=0\n",
    ")\n",
    "\n",
    "@interact(index=whole_positive_list, cut_width=cuts_width, cut_height=cuts_height)\n",
    "def show_elastic(index, cut_width, cut_height):\n",
    "    path = whole_positive_samples[index]\n",
    "    \n",
    "    up, down = cut_height\n",
    "    left, right = cut_width\n",
    "    \n",
    "    img = cv2.imread(path.as_posix(), 0)[up:down, left:right]\n",
    "    img = imutils.resize(img, height=96)\n",
    "    \n",
    "#     plt.figure(figsize=(18, 8))\n",
    "    plt.imshow(img, cmap=\"gray\")"
   ]
  },
  {
   "cell_type": "code",
   "execution_count": null,
   "metadata": {},
   "outputs": [],
   "source": []
  }
 ],
 "metadata": {
  "kernelspec": {
   "display_name": "Python 3",
   "language": "python",
   "name": "python3"
  },
  "language_info": {
   "codemirror_mode": {
    "name": "ipython",
    "version": 3
   },
   "file_extension": ".py",
   "mimetype": "text/x-python",
   "name": "python",
   "nbconvert_exporter": "python",
   "pygments_lexer": "ipython3",
   "version": "3.6.7"
  }
 },
 "nbformat": 4,
 "nbformat_minor": 2
}
