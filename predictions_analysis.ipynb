{
 "cells": [
  {
   "cell_type": "code",
   "execution_count": 142,
   "metadata": {},
   "outputs": [],
   "source": [
    "%matplotlib inline\n",
    "\n",
    "import ipywidgets as widgets\n",
    "import cv2\n",
    "import PIL.Image\n",
    "from ipywidgets import interact\n",
    "from pathlib import Path\n",
    "from IPython.display import display, Image, clear_output\n",
    "from skorch.net import NeuralNet\n",
    "from common import get_train_test_split_from_paths, get_train_valid_transformers, fscore_as_metric\n",
    "from pprint import pprint\n",
    "from sklearn.metrics import confusion_matrix\n",
    "import seaborn as sns\n",
    "import torch.nn as nn\n",
    "import numpy as np\n",
    "import matplotlib.pyplot as plt\n",
    "import json\n",
    "import torch\n",
    "import io\n",
    "\n",
    "from dataset import UsgDataset\n",
    "from model import PretrainedModel"
   ]
  },
  {
   "cell_type": "code",
   "execution_count": 19,
   "metadata": {},
   "outputs": [],
   "source": [
    "model_path = \"models/lower_adam_without_augmentation/params.pt\"\n",
    "data_folder = \"/data/Datasets/usg-kaggle/\""
   ]
  },
  {
   "cell_type": "code",
   "execution_count": 122,
   "metadata": {},
   "outputs": [],
   "source": [
    "weights_path = Path(model_path)\n",
    "assert weights_path.exists()\n",
    "\n",
    "data_paths = list((Path(data_folder) / \"train\").rglob(\"radial_polar_area.png\"))\n",
    "\n",
    "classes = [int(path.parent.parent.name) for path in data_paths]\n",
    "train_paths, valid_paths = get_train_test_split_from_paths(data_paths, classes)\n",
    "valid_paths = np.asarray(valid_paths)\n",
    "paths_to_consider = np.asarray(paths_to_consider)\n",
    "\n",
    "\n",
    "valid_dataset = UsgDataset(paths_to_consider, True, transforms=get_train_valid_transformers())\n",
    "\n",
    "net = NeuralNet(\n",
    "    PretrainedModel,\n",
    "    criterion=nn.CrossEntropyLoss,\n",
    "    iterator_valid__shuffle=False,\n",
    "    iterator_valid__num_workers=2,\n",
    "    iterator_valid__batch_size=1,\n",
    "    device=\"cuda\",\n",
    ")\n",
    "net.initialize()\n",
    "net.load_params(f_params=weights_path.as_posix())\n",
    "\n",
    "valid_predictions = net.predict(valid_dataset)\n",
    "valid_pred_classes = np.argmax(valid_predictions, axis=1)\n",
    "valid_trues = np.asarray([int(path.parent.parent.name) for path in paths_to_consider])"
   ]
  },
  {
   "cell_type": "code",
   "execution_count": 131,
   "metadata": {},
   "outputs": [
    {
     "data": {
      "text/plain": [
       "0.8476494831020258"
      ]
     },
     "execution_count": 131,
     "metadata": {},
     "output_type": "execute_result"
    }
   ],
   "source": [
    "fscore_as_metric(valid_predictions, valid_trues)"
   ]
  },
  {
   "cell_type": "code",
   "execution_count": 132,
   "metadata": {},
   "outputs": [
    {
     "data": {
      "text/plain": [
       "<matplotlib.axes._subplots.AxesSubplot at 0x7fb27c97ae80>"
      ]
     },
     "execution_count": 132,
     "metadata": {},
     "output_type": "execute_result"
    },
    {
     "data": {
      "image/png": "[encoded data removed]",
      "text/plain": [
       "<Figure size 432x288 with 1 Axes>"
      ]
     },
     "metadata": {
      "needs_background": "light"
     },
     "output_type": "display_data"
    }
   ],
   "source": [
    "probas = np.exp(valid_predictions) / np.sum(np.exp(valid_predictions), axis=1, keepdims=True)\n",
    "sns.distplot(probas[:, 1], kde=False, norm_hist=True)"
   ]
  },
  {
   "cell_type": "code",
   "execution_count": 140,
   "metadata": {},
   "outputs": [
    {
     "data": {
      "text/plain": [
       "(2332, 419)"
      ]
     },
     "execution_count": 140,
     "metadata": {},
     "output_type": "execute_result"
    }
   ],
   "source": [
    "same_predictions = valid_pred_classes == valid_trues\n",
    "paths_where_same = paths_to_consider[same_predictions]\n",
    "paths_where_not_same = paths_to_consider[~same_predictions]\n",
    "len(paths_where_same), len(paths_where_not_same)"
   ]
  },
  {
   "cell_type": "code",
   "execution_count": 141,
   "metadata": {},
   "outputs": [
    {
     "data": {
      "text/plain": [
       "<matplotlib.axes._subplots.AxesSubplot at 0x7fb27c9be630>"
      ]
     },
     "execution_count": 141,
     "metadata": {},
     "output_type": "execute_result"
    },
    {
     "data": {
      "image/png": "[encoded data removed]",
      "text/plain": [
       "<Figure size 432x288 with 1 Axes>"
      ]
     },
     "metadata": {
      "needs_background": "light"
     },
     "output_type": "display_data"
    }
   ],
   "source": [
    "sns.distplot([int(path.parent.parent.name) for path in paths_where_not_same], kde=False, rug=True, bins=2)"
   ]
  },
  {
   "cell_type": "code",
   "execution_count": 153,
   "metadata": {},
   "outputs": [
    {
     "data": {
      "text/plain": [
       "<matplotlib.axes._subplots.AxesSubplot at 0x7fb27c3b3438>"
      ]
     },
     "execution_count": 153,
     "metadata": {},
     "output_type": "execute_result"
    },
    {
     "data": {
      "image/png": "[encoded data removed]",
      "text/plain": [
       "<Figure size 432x288 with 1 Axes>"
      ]
     },
     "metadata": {
      "needs_background": "light"
     },
     "output_type": "display_data"
    }
   ],
   "source": [
    "sns.distplot(valid_trues, kde=False, norm_hist=False)"
   ]
  },
  {
   "cell_type": "code",
   "execution_count": 150,
   "metadata": {},
   "outputs": [
    {
     "data": {
      "text/plain": [
       "Text(0.5, 15.0, 'Pred labels')"
      ]
     },
     "execution_count": 150,
     "metadata": {},
     "output_type": "execute_result"
    },
    {
     "data": {
      "image/png": "[encoded data removed]",
      "text/plain": [
       "<Figure size 432x288 with 1 Axes>"
      ]
     },
     "metadata": {
      "needs_background": "light"
     },
     "output_type": "display_data"
    }
   ],
   "source": [
    "conf_matrix = confusion_matrix(valid_trues, valid_pred_classes)\n",
    "ax = sns.heatmap(conf_matrix / conf_matrix.sum(axis=1, keepdims=True), cbar=False, fmt=\".2f\", annot=True, square=True)\n",
    "ax.set_ylabel('True labels')\n",
    "ax.set_xlabel('Pred labels')"
   ]
  },
  {
   "cell_type": "code",
   "execution_count": 54,
   "metadata": {},
   "outputs": [
    {
     "data": {
      "application/vnd.jupyter.widget-view+json": {
       "model_id": "fd9e42701c3a417d99c3f5bdb863a3ce",
       "version_major": 2,
       "version_minor": 0
      },
      "text/plain": [
       "interactive(children=(IntSlider(value=0, description='index', max=136), Output()), _dom_classes=('widget-inter…"
      ]
     },
     "metadata": {},
     "output_type": "display_data"
    }
   ],
   "source": [
    "not_same_dropdown = widgets.IntSlider(\n",
    "    min=0,\n",
    "    max=len(paths_where_not_same) - 1,\n",
    "    value=0\n",
    ")\n",
    "@interact(index=not_same_dropdown)\n",
    "def see_wrong_predicitons(index):\n",
    "    a_path = paths_where_not_same[index]\n",
    "    img = cv2.imread(a_path.as_posix(), cv2.IMREAD_GRAYSCALE)\n",
    "    plt.title(f'Class: {a_path.parent.parent.name}, Confidence: {probas[index]}')\n",
    "    plt.imshow(img, cmap='gray')\n",
    "    pprint(json.loads((a_path.parent / 'left_side_annotation.json').read_text()))"
   ]
  },
  {
   "cell_type": "markdown",
   "metadata": {},
   "source": [
    "## Input optimisation"
   ]
  },
  {
   "cell_type": "code",
   "execution_count": 113,
   "metadata": {},
   "outputs": [],
   "source": [
    "a_model = PretrainedModel()\n",
    "a_model.load_state_dict(torch.load(weights_path.as_posix()))\n",
    "a_model = a_model.eval()"
   ]
  },
  {
   "cell_type": "code",
   "execution_count": 90,
   "metadata": {},
   "outputs": [],
   "source": [
    "def display_image(img):\n",
    "    pil_image = PIL.Image.fromarray(img)\n",
    "    clear_output()\n",
    "    byte_array = io.BytesIO()\n",
    "    pil_image.save(byte_array, format='PNG')\n",
    "    byte_array = byte_array.getvalue()\n",
    "    display(Image(byte_array))"
   ]
  },
  {
   "cell_type": "code",
   "execution_count": 157,
   "metadata": {},
   "outputs": [
    {
     "data": {
      "image/png": "[encoded data removed]",
      "text/plain": [
       "<IPython.core.display.Image object>"
      ]
     },
     "metadata": {},
     "output_type": "display_data"
    },
    {
     "name": "stdout",
     "output_type": "stream",
     "text": [
      "tensor(14.1474, grad_fn=<SelectBackward>)\n"
     ]
    }
   ],
   "source": [
    "example_input = np.random.random((1, 1, 128, 128)).astype(np.float32)\n",
    "example_input = np.concatenate([example_input] * 3, axis=1)\n",
    "example_input = torch.from_numpy(example_input)\n",
    "example_input.requires_grad = True\n",
    "iters = 100\n",
    "class_ind = 1\n",
    "display_image((example_input.detach().cpu().numpy()[0].transpose((1, 2, 0))  * 255).astype(np.uint8))\n",
    "for i in range(iters):\n",
    "    example_input.requires_grad = True\n",
    "    output = a_model(example_input)\n",
    "    output = torch.relu(output)\n",
    "    loss = output[:, class_ind]\n",
    "    loss.backward()\n",
    "    grads = example_input.grad \n",
    "    example_input = example_input.detach()\n",
    "    example_input = example_input + grads / grads.std() * 0.1\n",
    "    example_input /= example_input.max()\n",
    "    example_input = example_input.mean(dim=1, keepdim=True)\n",
    "    example_input = torch.cat([example_input] * 3, dim=1)\n",
    "    example_input = torch.clamp(example_input, 0, 1)\n",
    "    display_image((example_input.cpu().numpy()[0].transpose((1, 2, 0))  * 255).astype(np.uint8))\n",
    "    print(output[0, class_ind])"
   ]
  },
  {
   "cell_type": "code",
   "execution_count": null,
   "metadata": {},
   "outputs": [],
   "source": []
  }
 ],
 "metadata": {
  "kernelspec": {
   "display_name": "Python 3",
   "language": "python",
   "name": "python3"
  },
  "language_info": {
   "codemirror_mode": {
    "name": "ipython",
    "version": 3
   },
   "file_extension": ".py",
   "mimetype": "text/x-python",
   "name": "python",
   "nbconvert_exporter": "python",
   "pygments_lexer": "ipython3",
   "version": "3.7.3"
  }
 },
 "nbformat": 4,
 "nbformat_minor": 4
}
