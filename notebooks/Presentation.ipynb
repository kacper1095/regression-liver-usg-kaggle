{
 "cells": [
  {
   "cell_type": "markdown",
   "metadata": {
    "slideshow": {
     "slide_type": "skip"
    }
   },
   "source": [
    "# Loading"
   ]
  },
  {
   "cell_type": "code",
   "execution_count": null,
   "metadata": {
    "slideshow": {
     "slide_type": "skip"
    }
   },
   "outputs": [],
   "source": [
    "import sys\n",
    "import os\n",
    "\n",
    "sys.path.insert(0, os.path.join(os.path.abspath(os.path.curdir), os.path.pardir))"
   ]
  },
  {
   "cell_type": "code",
   "execution_count": null,
   "metadata": {
    "slideshow": {
     "slide_type": "skip"
    }
   },
   "outputs": [],
   "source": [
    "%load_ext autoreload\n",
    "%autoreload 2\n",
    "\n",
    "import matplotlib.pyplot as plt\n",
    "import cv2\n",
    "import numpy as np\n",
    "import ipywidgets as widgets\n",
    "import pandas as pd\n",
    "import seaborn as sns\n",
    "import json\n",
    "import tqdm\n",
    "import matplotlib\n",
    "\n",
    "\n",
    "from ast import literal_eval\n",
    "from ipywidgets import interact, interact_manual\n",
    "from functools import lru_cache\n",
    "from itertools import chain\n",
    "\n",
    "from pathlib import Path\n",
    "from process_files import process_single_image_path\n",
    "from common import get_train_test_split_from_paths"
   ]
  },
  {
   "cell_type": "code",
   "execution_count": null,
   "metadata": {
    "slideshow": {
     "slide_type": "skip"
    }
   },
   "outputs": [],
   "source": [
    "font = {\n",
    "    'size': 22,\n",
    "    'family': 'sans-serif',\n",
    "#     'weight': 'bold'\n",
    "}\n",
    "\n",
    "matplotlib.rc('font', **font)\n",
    "# plt.rc('text', usetex=True)\n",
    "\n",
    "sns.set_style('whitegrid')\n",
    "sns.set_context('talk')"
   ]
  },
  {
   "cell_type": "code",
   "execution_count": null,
   "metadata": {
    "slideshow": {
     "slide_type": "skip"
    }
   },
   "outputs": [],
   "source": [
    "data_path = Path('/data/Datasets/usg')\n",
    "\n",
    "files = list([path for path in Path(data_path).rglob('*.tif') if not path.name.startswith('.')])\n",
    "files = list(sorted(files, key=lambda x: x.parent.parent.name))\n",
    "files_widget = widgets.Dropdown(\n",
    "    options=files,\n",
    "    index=0,\n",
    "    description=\"File:\"\n",
    ")"
   ]
  },
  {
   "cell_type": "markdown",
   "metadata": {
    "slideshow": {
     "slide_type": "slide"
    }
   },
   "source": [
    "# Data Extraction"
   ]
  },
  {
   "cell_type": "code",
   "execution_count": null,
   "metadata": {
    "slideshow": {
     "slide_type": "skip"
    }
   },
   "outputs": [],
   "source": [
    "def show_pair_of_images(img_1, img_2):\n",
    "    fig, ax = plt.subplots(1, 2, figsize=(16, 12))\n",
    "    fig.tight_layout()\n",
    "    [axi.set_axis_off() for axi in ax.ravel()]\n",
    "    ax[0].imshow(img_1)\n",
    "    ax[1].imshow(img_2)\n",
    "    plt.show()"
   ]
  },
  {
   "cell_type": "code",
   "execution_count": null,
   "metadata": {
    "slideshow": {
     "slide_type": "skip"
    }
   },
   "outputs": [],
   "source": [
    "def get_img_data(a_file, output_dir):\n",
    "    output_dir = Path(output_dir)\n",
    "    output_dir.mkdir(parents=True, exist_ok=True)\n",
    "    data = process_single_image_path(a_file, output_dir)\n",
    "    lower, upper, radial_polar_area, masked_circle, coordinates, left_side_annotation, legend_bar_annotation, lower_right_annotation = data\n",
    "    \n",
    "    frame = pd.DataFrame(\n",
    "        data=literal_eval(left_side_annotation) \n",
    "        + literal_eval(legend_bar_annotation )\n",
    "        + literal_eval(lower_right_annotation)\n",
    "    )\n",
    "    \n",
    "    frame = frame[[\"text\", \"x\", \"y\", \"w\", \"h\"]]\n",
    "    \n",
    "    return lower, upper, radial_polar_area, masked_circle, frame"
   ]
  },
  {
   "cell_type": "code",
   "execution_count": null,
   "metadata": {
    "slideshow": {
     "slide_type": "skip"
    }
   },
   "outputs": [],
   "source": [
    "def display_img_data(a_file):\n",
    "    lower, upper, radial_polar_area, masked_circle, frame = get_img_data(a_file, \"output\")\n",
    "    show_pair_of_images(lower, upper)\n",
    "    show_pair_of_images(radial_polar_area, masked_circle)\n",
    "    display(frame)"
   ]
  },
  {
   "cell_type": "code",
   "execution_count": null,
   "metadata": {
    "slideshow": {
     "slide_type": "subslide"
    }
   },
   "outputs": [],
   "source": [
    "interact_manual(display_img_data, a_file=files_widget)"
   ]
  },
  {
   "cell_type": "markdown",
   "metadata": {
    "slideshow": {
     "slide_type": "slide"
    }
   },
   "source": [
    "# Additional Data Preprocessing"
   ]
  },
  {
   "cell_type": "code",
   "execution_count": null,
   "metadata": {
    "slideshow": {
     "slide_type": "skip"
    }
   },
   "outputs": [],
   "source": [
    "smoothing_value_widget = widgets.IntSlider(\n",
    "    value=1,\n",
    "    min=1,\n",
    "    max=41,\n",
    "    description=\"Smoothing: \",\n",
    "    continuous_update=False,\n",
    ")"
   ]
  },
  {
   "cell_type": "code",
   "execution_count": null,
   "metadata": {
    "slideshow": {
     "slide_type": "skip"
    }
   },
   "outputs": [],
   "source": [
    "def display_single_image(img):\n",
    "    plt.figure(figsize=(16, 12))\n",
    "    plt.imshow(img, cmap='gray')\n",
    "    plt.axis('off')\n",
    "    plt.show()"
   ]
  },
  {
   "cell_type": "code",
   "execution_count": null,
   "metadata": {
    "slideshow": {
     "slide_type": "subslide"
    }
   },
   "outputs": [],
   "source": [
    "lower, radial, circle = None, None, None\n",
    "def load(a_file):\n",
    "    global lower, radial, circle\n",
    "    lower, _, radial, circle, _ = get_img_data(a_file, \"output\")\n",
    "    print(\"Loaded!\")\n",
    "    \n",
    "interact(load, a_file=files_widget)"
   ]
  },
  {
   "cell_type": "code",
   "execution_count": null,
   "metadata": {
    "slideshow": {
     "slide_type": "skip"
    }
   },
   "outputs": [],
   "source": [
    "def visualise_smoothing(smoothing):\n",
    "    cur_lower, cur_radial, cur_circle = lower.copy(), radial.copy(), circle.copy()\n",
    "    cur_lower = cv2.fastNlMeansDenoising(cur_lower, h=smoothing)\n",
    "    cur_radial = cv2.fastNlMeansDenoising(cur_radial, h=smoothing)\n",
    "    cur_circle = cv2.fastNlMeansDenoising(cur_circle, h=smoothing)\n",
    "    \n",
    "    show_pair_of_images(cur_radial, cur_circle)\n",
    "    display_single_image(cur_lower)"
   ]
  },
  {
   "cell_type": "code",
   "execution_count": null,
   "metadata": {
    "slideshow": {
     "slide_type": "subslide"
    }
   },
   "outputs": [],
   "source": [
    "interact(visualise_smoothing, smoothing=smoothing_value_widget)"
   ]
  },
  {
   "cell_type": "markdown",
   "metadata": {
    "slideshow": {
     "slide_type": "slide"
    }
   },
   "source": [
    "# Data Description"
   ]
  },
  {
   "cell_type": "code",
   "execution_count": null,
   "metadata": {
    "slideshow": {
     "slide_type": "skip"
    }
   },
   "outputs": [],
   "source": [
    "data_folder = Path('/data/Datasets/usg-kaggle')\n",
    "\n",
    "data_paths = list(\n",
    "    chain(\n",
    "        (Path(data_folder) / \"train\" / \"0\").glob(\"*\"),\n",
    "        (Path(data_folder) / \"train\" / \"1\").glob(\"*\")\n",
    "    )\n",
    ")\n",
    "data_paths = list(sorted(data_paths, key=lambda x: int(x.name)))\n",
    "\n",
    "classes = np.asarray([int(path.parent.name) for path in data_paths])\n",
    "\n",
    "_, valid_paths = get_train_test_split_from_paths(data_paths, classes)\n",
    "\n",
    "f0_regression_values = []\n",
    "f4_regression_values = []\n",
    "for path in tqdm.tqdm_notebook(valid_paths):\n",
    "    a_cls = int(path.parent.name)\n",
    "    list_to_append = f4_regression_values if a_cls == 1 else f0_regression_values\n",
    "    list_to_append.append(\n",
    "        json.loads(\n",
    "            (path / \"regression_ground_truth.json\").read_text()\n",
    "        )[\"mean\"]\n",
    "    )\n",
    "\n",
    "\n",
    "classification_f0 = len([\n",
    "    f for f in list(Path('/data/Datasets/usg/F0/').glob(\"*\"))\n",
    "    if not f.name.startswith('.')\n",
    "])\n",
    "classification_f4 = len([\n",
    "    f for f in list(Path('/data/Datasets/usg/F4/').glob(\"*\"))\n",
    "    if not f.name.startswith('.')\n",
    "])\n",
    "\n",
    "classification_real_dist = pd.DataFrame(data={\n",
    "    \"count\": [classification_f0, classification_f4],\n",
    "    \"name\": [\"F0\", \"F4\"]\n",
    "})\n",
    "\n",
    "classification_used_dist = pd.DataFrame(data={\n",
    "    \"count\": [len(classes[classes == 1]), len(classes[classes == 0])],\n",
    "    \"name\": [\"F0\", \"F4\"]\n",
    "})"
   ]
  },
  {
   "cell_type": "code",
   "execution_count": null,
   "metadata": {
    "slideshow": {
     "slide_type": "subslide"
    }
   },
   "outputs": [],
   "source": [
    "fig, ax = plt.subplots(1, 3, figsize=(24, 6))\n",
    "sns.barplot(x=\"name\", y=\"count\", data=classification_real_dist, ax=ax[0])\n",
    "sns.barplot(x=\"name\", y=\"count\", data=classification_used_dist, ax=ax[1])\n",
    "sns.distplot(f0_regression_values, hist=False, norm_hist=True, ax=ax[2], label=\"F0\")\n",
    "sns.distplot(f4_regression_values, hist=False, norm_hist=True, ax=ax[2], label=\"F4\")\n",
    "ax[0].set_title('Classes of all available data')\n",
    "ax[1].set_title('Classes of data used for validation')\n",
    "ax[2].set_title('Distribution of QBox mean values for each class')\n",
    "plt.legend(loc='best')\n",
    "plt.show()\n",
    "print()"
   ]
  },
  {
   "cell_type": "code",
   "execution_count": null,
   "metadata": {
    "slideshow": {
     "slide_type": "skip"
    }
   },
   "outputs": [],
   "source": [
    "f0_processed_count = 2265 \n",
    "f4_processed_count = 2340\n",
    "unknown_processed_count = 599\n",
    "f0_raw_count = 2861\n",
    "f4_raw_count = 4692"
   ]
  },
  {
   "cell_type": "markdown",
   "metadata": {
    "slideshow": {
     "slide_type": "slide"
    }
   },
   "source": [
    "# Model evaluation - statistics"
   ]
  },
  {
   "cell_type": "code",
   "execution_count": null,
   "metadata": {
    "slideshow": {
     "slide_type": "skip"
    }
   },
   "outputs": [],
   "source": [
    "results_frame = pd.read_csv('predictions.csv')\n",
    "results_frame.keys()"
   ]
  },
  {
   "cell_type": "code",
   "execution_count": null,
   "metadata": {
    "slideshow": {
     "slide_type": "subslide"
    }
   },
   "outputs": [],
   "source": [
    "mae = np.mean(np.abs(results_frame['reg_true'] - results_frame['reg_mean_pred']))\n",
    "print('MAE: {:.4f}, std: {:.4f}'.format(mae, results_frame['reg_std_pred'].mean()))"
   ]
  },
  {
   "cell_type": "code",
   "execution_count": null,
   "metadata": {
    "slideshow": {
     "slide_type": "subslide"
    }
   },
   "outputs": [],
   "source": [
    "pred_classes = np.argmax(np.stack([\n",
    "    results_frame[\"f0_mean_pred\"],\n",
    "    results_frame[\"f4_mean_pred\"]\n",
    "], axis=-1), axis=1)\n",
    "acc = np.mean(results_frame[\"cls_true\"] == pred_classes)\n",
    "print(\"Accuracy: {:.4f}\".format(acc))"
   ]
  },
  {
   "cell_type": "code",
   "execution_count": null,
   "metadata": {
    "slideshow": {
     "slide_type": "skip"
    }
   },
   "outputs": [],
   "source": [
    "def show_roc(fpr, tpr, roc_auc):\n",
    "    plt.figure(figsize=(8, 6))\n",
    "    lw = 2\n",
    "    plt.plot(fpr, tpr, color='darkorange',\n",
    "             lw=lw, label='ROC curve (area = %0.2f)' % roc_auc)\n",
    "    plt.plot([0, 1], [0, 1], color='navy', lw=lw, linestyle='--')\n",
    "    plt.xlim([0.0, 1.0])\n",
    "    plt.ylim([0.0, 1.05])\n",
    "    plt.xlabel('False Positive Rate')\n",
    "    plt.ylabel('True Positive Rate')\n",
    "    plt.title('Receiver operating characteristic')\n",
    "    plt.legend(loc=\"lower right\")\n",
    "    plt.show()\n",
    "    \n",
    "def show_specifity_sensitivity(specifity, sensitivity, tresholds):\n",
    "    plt.figure(figsize=(8, 6))\n",
    "    lw = 2\n",
    "    plt.plot(thresholds, specifity, color='darkorange', lw=lw, label='Speciftity')\n",
    "    plt.plot(thresholds, sensitivity, color='darkblue', lw=lw, label='Sensitivity')\n",
    "    plt.xlim([0.0, 1.0])\n",
    "    plt.ylim([0.0, 1.05])\n",
    "    plt.xlabel('Probability threshold')\n",
    "    plt.ylabel('Specifity or Sensitivity')\n",
    "    plt.title('Specifity / Sensitivity Curve')\n",
    "    plt.legend(loc=\"lower right\")\n",
    "    plt.show()\n",
    "    \n",
    "    \n",
    "def show_prec_recall_curve(precision, recall):\n",
    "    plt.figure(figsize=(8, 6))\n",
    "    lw = 2\n",
    "    plt.plot(recall, precision, color='darkorange',\n",
    "             lw=lw, label='Precision-Recall curve')\n",
    "    plt.xlim([0.0, 1.0])\n",
    "    plt.ylim([0.0, 1.05])\n",
    "    plt.xlabel('Recall')\n",
    "    plt.ylabel('Precision')\n",
    "    plt.title('Precision recall curve')\n",
    "    plt.legend(loc=\"lower right\")\n",
    "    plt.show()"
   ]
  },
  {
   "cell_type": "code",
   "execution_count": null,
   "metadata": {
    "slideshow": {
     "slide_type": "subslide"
    }
   },
   "outputs": [],
   "source": [
    "from sklearn.metrics import roc_curve, auc, precision_recall_curve, recall_score, precision_score\n",
    "\n",
    "fpr, tpr, _ = roc_curve(results_frame[\"cls_true\"], results_frame[\"f4_mean_pred\"])\n",
    "roc_auc = auc(fpr, tpr)\n",
    "show_roc(fpr, tpr, roc_auc)"
   ]
  },
  {
   "cell_type": "code",
   "execution_count": null,
   "metadata": {
    "slideshow": {
     "slide_type": "subslide"
    }
   },
   "outputs": [],
   "source": [
    "prec, recall, _ = precision_recall_curve(results_frame[\"cls_true\"], results_frame[\"f4_mean_pred\"])\n",
    "show_prec_recall_curve(prec, recall)"
   ]
  },
  {
   "cell_type": "code",
   "execution_count": null,
   "metadata": {
    "slideshow": {
     "slide_type": "skip"
    }
   },
   "outputs": [],
   "source": [
    "def specifity_sensitivity_curve(y_true, y_pred_proba):\n",
    "    fpr, tpr, thresholds = roc_curve(y_true, y_pred_proba)\n",
    "    return 1 - fpr, tpr, thresholds"
   ]
  },
  {
   "cell_type": "code",
   "execution_count": null,
   "metadata": {
    "slideshow": {
     "slide_type": "subslide"
    }
   },
   "outputs": [],
   "source": [
    "specifity, sensitivity, thresholds = specifity_sensitivity_curve(\n",
    "    results_frame[\"cls_true\"], results_frame[\"f4_mean_pred\"]\n",
    ")\n",
    "show_specifity_sensitivity(specifity, sensitivity, thresholds)"
   ]
  },
  {
   "cell_type": "code",
   "execution_count": null,
   "metadata": {
    "slideshow": {
     "slide_type": "subslide"
    }
   },
   "outputs": [],
   "source": [
    "precision = precision_score(results_frame[\"cls_true\"], pred_classes)\n",
    "recall = recall_score(results_frame[\"cls_true\"], pred_classes)\n",
    "print('Precision: {:.4f} | Recall: {:.4f}'.format(precision, recall))"
   ]
  },
  {
   "cell_type": "code",
   "execution_count": null,
   "metadata": {
    "slideshow": {
     "slide_type": "skip"
    }
   },
   "outputs": [],
   "source": [
    "true_reg = results_frame['reg_true']\n",
    "true_cls = results_frame['cls_true']\n",
    "\n",
    "pred_reg = results_frame['reg_mean_pred']\n",
    "pred_cls = np.argmax(np.stack([\n",
    "    results_frame[\"f0_mean_pred\"],\n",
    "    results_frame[\"f4_mean_pred\"]\n",
    "], axis=-1), axis=1)"
   ]
  },
  {
   "cell_type": "code",
   "execution_count": null,
   "metadata": {
    "slideshow": {
     "slide_type": "subslide"
    }
   },
   "outputs": [],
   "source": [
    "fig, ax = plt.subplots(1, 2, figsize=(24, 6), sharey=True)\n",
    "sns.distplot(true_reg[true_cls == 0], hist=False, norm_hist=True, ax=ax[0], label=\"F0\")\n",
    "sns.distplot(true_reg[true_cls == 1], hist=False, norm_hist=True, ax=ax[0], label=\"F4\")\n",
    "sns.distplot(pred_reg[pred_cls == 0], hist=False, norm_hist=True, ax=ax[1], label=\"F0\")\n",
    "sns.distplot(pred_reg[pred_cls == 1], hist=False, norm_hist=True, ax=ax[1], label=\"F4\")\n",
    "ax[0].set_title('True distribution of QBox mean values'); ax[0].set_xlabel('QBox mean value')\n",
    "ax[1].set_title('Predicted distribution of QBox mean values'); ax[1].set_xlabel('QBox mean value')\n",
    "plt.legend(loc='best')\n",
    "plt.show()\n",
    "print()"
   ]
  },
  {
   "cell_type": "code",
   "execution_count": null,
   "metadata": {
    "slideshow": {
     "slide_type": "subslide"
    }
   },
   "outputs": [],
   "source": [
    "fig, ax = plt.subplots(1, 2, figsize=(24, 6), sharey=True)\n",
    "sns.distplot(true_reg[true_cls == 0], hist=False, norm_hist=True, ax=ax[0], label=\"True\")\n",
    "sns.distplot(pred_reg[pred_cls == 0], hist=False, norm_hist=True, ax=ax[0], label=\"Predicted\")\n",
    "sns.distplot(true_reg[true_cls == 1], hist=False, norm_hist=True, ax=ax[1], label=\"True\")\n",
    "sns.distplot(pred_reg[pred_cls == 1], hist=False, norm_hist=True, ax=ax[1], label=\"Predicted\")\n",
    "ax[0].set_title('QBox mean values distribution comparison of true and predicted for F0'); ax[0].set_xlabel('QBox mean value')\n",
    "ax[1].set_title('QBox mean values distribution comparison of true and predicted for F4'); ax[1].set_xlabel('QBox mean value')\n",
    "plt.legend(loc='best')\n",
    "plt.show()\n",
    "print()"
   ]
  },
  {
   "cell_type": "code",
   "execution_count": null,
   "metadata": {
    "slideshow": {
     "slide_type": "subslide"
    }
   },
   "outputs": [],
   "source": [
    "fig, ax = plt.subplots(figsize=(12, 6))\n",
    "data = pd.DataFrame(data={\n",
    "    'Class': ['F0', 'F0', 'F4', 'F4'],\n",
    "    'Count': [(true_cls==0).sum(), (pred_cls==0).sum(), (true_cls==1).sum(), (pred_cls==1).sum()],\n",
    "    'Type': ['True', 'Predicted', 'True', 'Predicted']\n",
    "})\n",
    "sns.barplot(x='Class', y='Count', hue='Type', data=data, ax=ax)\n",
    "plt.legend(loc='best')"
   ]
  },
  {
   "cell_type": "markdown",
   "metadata": {
    "slideshow": {
     "slide_type": "slide"
    }
   },
   "source": [
    "# Analysis of selected samples\n"
   ]
  },
  {
   "cell_type": "code",
   "execution_count": null,
   "metadata": {
    "slideshow": {
     "slide_type": "skip"
    }
   },
   "outputs": [],
   "source": [
    "min_mean = 0.4\n",
    "max_mean = 0.6\n",
    "min_std = 0.05\n",
    "max_std = 0.3"
   ]
  },
  {
   "cell_type": "code",
   "execution_count": null,
   "metadata": {
    "slideshow": {
     "slide_type": "skip"
    }
   },
   "outputs": [],
   "source": [
    "def get_image_description(folder_path: str):\n",
    "    a_row = results_frame[results_frame[\"path\"] == folder_path].iloc[0]\n",
    "    folder_path = Path(folder_path)\n",
    "    low_img = cv2.imread((folder_path / \"lower.png\").as_posix(), cv2.IMREAD_GRAYSCALE)\n",
    "    rectangle_area = cv2.imread((folder_path / \"radial_polar_area.png\").as_posix(), cv2.IMREAD_GRAYSCALE)\n",
    "    circle = cv2.imread((folder_path / \"circle.png\").as_posix(), cv2.IMREAD_GRAYSCALE)\n",
    "    \n",
    "    plt.figure(figsize=(24, 6))\n",
    "    plt.imshow(low_img, cmap='gray')\n",
    "    plt.axis('off')\n",
    "    plt.show()\n",
    "    \n",
    "    fig, ax = plt.subplots(1, 3, figsize=(24, 4))\n",
    "    ax[0].imshow(rectangle_area, cmap='gray'); ax[0].set_axis_off()\n",
    "    ax[1].imshow(circle, cmap='gray'); ax[1].set_axis_off()\n",
    "    ax[2].text(0, 1, \n",
    "               'Expected mean value:\\n'\n",
    "               'Expected class:\\n\\n'\n",
    "               'Predicted mean value | std:\\n'\n",
    "               'Confidence | std:\\n'\n",
    "               'Predicted class:\\n',\n",
    "                verticalalignment='center', fontsize=13\n",
    "    ); ax[2].set_axis_off()\n",
    "    \n",
    "    predicted_class = 0 if a_row['f0_mean_pred'] > a_row['f4_mean_pred'] else 1\n",
    "    predicted_class_mean = a_row['f0_mean_pred'] if predicted_class == 0 else a_row['f4_mean_pred']\n",
    "    predicted_class_std = a_row['f0_std_pred'] if predicted_class == 0 else a_row['f4_std_pred']\n",
    "    \n",
    "    result_string = \"\"\"\n",
    "    {:.4f}\n",
    "    {}\n",
    "    \n",
    "    {:.4f} | {:.4f}\n",
    "    {:.4f} | {:.4f}\n",
    "    {}\n",
    "    \"\"\".format(\n",
    "        json.loads((folder_path / \"regression_ground_truth.json\").read_text())[\"mean\"],\n",
    "        int(folder_path.parent.name),\n",
    "        a_row[\"reg_mean_pred\"], a_row[\"reg_std_pred\"],\n",
    "        predicted_class_mean, predicted_class_std,\n",
    "        predicted_class\n",
    "    )\n",
    "    \n",
    "    ax[2].text(0.9, 1,\n",
    "              result_string,\n",
    "              verticalalignment='center',\n",
    "              horizontalalignment='right',\n",
    "              fontsize=13)\n",
    "    plt.show()"
   ]
  },
  {
   "cell_type": "markdown",
   "metadata": {
    "slideshow": {
     "slide_type": "subslide"
    }
   },
   "source": [
    "#### Wrong predictions with a high confidence"
   ]
  },
  {
   "cell_type": "code",
   "execution_count": null,
   "metadata": {
    "slideshow": {
     "slide_type": "skip"
    }
   },
   "outputs": [],
   "source": [
    "partial_frame_bad_predictions_high_confidence = results_frame.loc[\n",
    "    results_frame[\"cls_true\"] != pred_classes\n",
    "].query(f\"(f4_mean_pred > {max_mean} | f4_mean_pred < {min_mean}) & (f0_mean_pred > {max_mean} | f0_mean_pred < {min_mean})\")\n",
    "len(partial_frame_bad_predictions_high_confidence), (results_frame[\"cls_true\"] != pred_classes).sum()"
   ]
  },
  {
   "cell_type": "code",
   "execution_count": null,
   "metadata": {
    "slideshow": {
     "slide_type": "fragment"
    }
   },
   "outputs": [],
   "source": [
    "bad_predictions_high_confidence_paths_widget = widgets.Dropdown(\n",
    "    options=partial_frame_bad_predictions_high_confidence[\"path\"].tolist(),\n",
    "    index=0\n",
    ")\n",
    "\n",
    "interact(get_image_description, folder_path=bad_predictions_high_confidence_paths_widget)"
   ]
  },
  {
   "cell_type": "markdown",
   "metadata": {
    "slideshow": {
     "slide_type": "subslide"
    }
   },
   "source": [
    "#### Wrong predictions with a low confidence"
   ]
  },
  {
   "cell_type": "code",
   "execution_count": null,
   "metadata": {
    "slideshow": {
     "slide_type": "skip"
    }
   },
   "outputs": [],
   "source": [
    "partial_frame_bad_predictions_low_confidence = results_frame.loc[\n",
    "    results_frame[\"cls_true\"] != pred_classes\n",
    "].query(f\"(f4_mean_pred < {max_mean} & f4_mean_pred > {min_mean} ) | (f0_mean_pred < {max_mean} & f0_mean_pred > {min_mean})\")"
   ]
  },
  {
   "cell_type": "code",
   "execution_count": null,
   "metadata": {
    "slideshow": {
     "slide_type": "fragment"
    }
   },
   "outputs": [],
   "source": [
    "bad_predictions_low_confidence_paths_widget = widgets.Dropdown(\n",
    "    options=partial_frame_bad_predictions_low_confidence[\"path\"].tolist(),\n",
    "    index=0\n",
    ")\n",
    "\n",
    "interact(get_image_description, folder_path=bad_predictions_low_confidence_paths_widget)"
   ]
  },
  {
   "cell_type": "markdown",
   "metadata": {
    "slideshow": {
     "slide_type": "subslide"
    }
   },
   "source": [
    "#### Good predictions with a low confidence"
   ]
  },
  {
   "cell_type": "code",
   "execution_count": null,
   "metadata": {
    "slideshow": {
     "slide_type": "skip"
    }
   },
   "outputs": [],
   "source": [
    "partial_frame_good_predictions_low_confidence = results_frame.loc[\n",
    "    results_frame[\"cls_true\"] == pred_classes\n",
    "].query(f\"(f4_mean_pred < {max_mean} & f4_mean_pred > {min_mean}) | (f0_mean_pred < {max_mean} & f0_mean_pred > {min_mean})\")"
   ]
  },
  {
   "cell_type": "code",
   "execution_count": null,
   "metadata": {
    "slideshow": {
     "slide_type": "fragment"
    }
   },
   "outputs": [],
   "source": [
    "good_predictions_low_confidence_paths_widget = widgets.Dropdown(\n",
    "    options=partial_frame_good_predictions_low_confidence[\"path\"].tolist(),\n",
    "    index=0\n",
    ")\n",
    "\n",
    "interact(get_image_description, folder_path=good_predictions_low_confidence_paths_widget)"
   ]
  }
 ],
 "metadata": {
  "celltoolbar": "Slideshow",
  "kernelspec": {
   "display_name": "Python 3",
   "language": "python",
   "name": "python3"
  },
  "language_info": {
   "codemirror_mode": {
    "name": "ipython",
    "version": 3
   },
   "file_extension": ".py",
   "mimetype": "text/x-python",
   "name": "python",
   "nbconvert_exporter": "python",
   "pygments_lexer": "ipython3",
   "version": "3.7.3"
  }
 },
 "nbformat": 4,
 "nbformat_minor": 4
}
