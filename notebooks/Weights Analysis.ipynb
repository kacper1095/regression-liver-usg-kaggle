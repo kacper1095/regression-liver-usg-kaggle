{
 "cells": [
  {
   "cell_type": "code",
   "execution_count": null,
   "metadata": {},
   "outputs": [],
   "source": [
    "import sys\n",
    "import os\n",
    "\n",
    "sys.path.insert(0, os.path.join(os.path.abspath(os.path.curdir), '..'))"
   ]
  },
  {
   "cell_type": "code",
   "execution_count": null,
   "metadata": {},
   "outputs": [],
   "source": [
    "from model import PretrainedModel\n",
    "\n",
    "import torch\n",
    "import seaborn as sns\n",
    "import matplotlib.pyplot as plt"
   ]
  },
  {
   "cell_type": "code",
   "execution_count": null,
   "metadata": {},
   "outputs": [],
   "source": [
    "a_model = PretrainedModel()\n",
    "a_model.load_state_dict(torch.load(os.path.join('..', 'models/lower_weights:top/params.pt')))\n",
    "a_model = a_model.eval()"
   ]
  },
  {
   "cell_type": "code",
   "execution_count": null,
   "metadata": {},
   "outputs": [],
   "source": [
    "first_convo_layer = list(a_model.extractor.modules())[0][0]\n",
    "first_weights = list(first_convo_layer.parameters())[0]\n",
    "\n",
    "num_channels = first_weights.shape[1]\n",
    "\n",
    "fig, ax = plt.subplots(3, 1, figsize=(18, 12))\n",
    "\n",
    "\n",
    "for channel in range(first_weights.shape[1]):\n",
    "    channel_weights = first_weights[:, channel].detach().flatten().numpy()\n",
    "    count_near_zeros = ((channel_weights > -1e-4) & (channel_weights < 1e-4)).sum()\n",
    "    print(\"Channel: {}, near zeros: {}, which is {:.2f}% of the rest\".format(channel + 1, \n",
    "                                                                             count_near_zeros,\n",
    "                                                                            count_near_zeros / sum(channel_weights.shape) * 100))\n",
    "    sns.distplot(channel_weights, ax=ax[channel], bins=100)\n",
    "plt.show()"
   ]
  },
  {
   "cell_type": "code",
   "execution_count": null,
   "metadata": {},
   "outputs": [],
   "source": []
  },
  {
   "cell_type": "code",
   "execution_count": null,
   "metadata": {},
   "outputs": [],
   "source": []
  }
 ],
 "metadata": {
  "kernelspec": {
   "display_name": "Python 3",
   "language": "python",
   "name": "python3"
  },
  "language_info": {
   "codemirror_mode": {
    "name": "ipython",
    "version": 3
   },
   "file_extension": ".py",
   "mimetype": "text/x-python",
   "name": "python",
   "nbconvert_exporter": "python",
   "pygments_lexer": "ipython3",
   "version": "3.6.7"
  }
 },
 "nbformat": 4,
 "nbformat_minor": 2
}
