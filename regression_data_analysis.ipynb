{
 "cells": [
  {
   "cell_type": "code",
   "execution_count": null,
   "metadata": {},
   "outputs": [],
   "source": [
    "from pathlib import Path\n",
    "from collections import defaultdict\n",
    "from typing import Any\n",
    "from pprint import pprint\n",
    "from sklearn.preprocessing import LabelEncoder\n",
    "\n",
    "import pickle as pkl\n",
    "import json\n",
    "import numpy as np\n",
    "import matplotlib.pyplot as plt"
   ]
  },
  {
   "cell_type": "code",
   "execution_count": null,
   "metadata": {},
   "outputs": [],
   "source": [
    "DATASETS_PATH = Path('/data/Datasets/usg-kaggle/train/')"
   ]
  },
  {
   "cell_type": "code",
   "execution_count": null,
   "metadata": {},
   "outputs": [],
   "source": [
    "zeroes = list((DATASETS_PATH / \"0\").rglob('regression*'))\n",
    "ones = list((DATASETS_PATH / \"1\").rglob(\"regression*\"))\n",
    "len(zeroes), len(ones)"
   ]
  },
  {
   "cell_type": "code",
   "execution_count": null,
   "metadata": {},
   "outputs": [],
   "source": [
    "def get_stats(paths: list) -> dict:\n",
    "    results = defaultdict(list)\n",
    "    for path in paths:\n",
    "        datum = json.loads(path.read_text())\n",
    "        for key, value in datum.items():\n",
    "            results[key].append(value)\n",
    "            \n",
    "    plt.figure()\n",
    "    plt.hist(results[\"mean\"], bins=30)\n",
    "    print(np.median(results[\"mean\"]))\n",
    "                \n",
    "    return {\n",
    "        \"sd\": np.mean(results[\"sd\"]),\n",
    "        \"min\": np.min(results[\"min\"]),\n",
    "        \"max\": np.max(results[\"max\"]),\n",
    "        \"mean\": np.mean(results[\"mean\"])\n",
    "    }\n",
    "\n",
    "def get_mean_stats(paths: list) -> dict:\n",
    "    means_stats = []\n",
    "    for path in paths:\n",
    "        datum = json.loads(path.read_text())\n",
    "        means_stats.append(datum[\"mean\"])\n",
    "                \n",
    "    return {\n",
    "        \"sd\": np.std(means_stats),\n",
    "        \"min\": np.min(means_stats),\n",
    "        \"max\": np.max(means_stats),\n",
    "        \"mean\": np.mean(means_stats)\n",
    "    }\n",
    "\n",
    "def get_unique_decimals(paths: list) -> set:\n",
    "    decimals = []\n",
    "    for path in paths:\n",
    "        datum = json.loads(path.read_text())\n",
    "        decimals.append(int(datum[\"mean\"]))\n",
    "    return set(decimals)\n",
    "\n",
    "def get_decimals(paths: list) -> list:\n",
    "    decimals = []\n",
    "    for path in paths:\n",
    "        datum = json.loads(path.read_text())\n",
    "        decimals.append(int(datum[\"mean\"]))\n",
    "    return decimals\n",
    "\n",
    "def get_unique_floats(paths: list) -> set:\n",
    "    floats = []\n",
    "    for path in paths:\n",
    "        datum = json.loads(path.read_text())\n",
    "        floats.append(int(datum[\"mean\"] * 10) % 10)\n",
    "    return set(floats)"
   ]
  },
  {
   "cell_type": "code",
   "execution_count": null,
   "metadata": {},
   "outputs": [],
   "source": [
    "get_stats(zeroes), get_stats(ones)"
   ]
  },
  {
   "cell_type": "code",
   "execution_count": null,
   "metadata": {},
   "outputs": [],
   "source": [
    "get_mean_stats(zeroes), get_mean_stats(ones)"
   ]
  },
  {
   "cell_type": "code",
   "execution_count": null,
   "metadata": {},
   "outputs": [],
   "source": [
    "decimals = list(get_unique_decimals(zeroes + ones))\n",
    "np.min(decimals), np.max(decimals)"
   ]
  },
  {
   "cell_type": "code",
   "execution_count": null,
   "metadata": {},
   "outputs": [],
   "source": [
    "get_unique_floats(zeroes + ones)"
   ]
  },
  {
   "cell_type": "code",
   "execution_count": null,
   "metadata": {},
   "outputs": [],
   "source": [
    "ones_decims = get_decimals(ones)\n",
    "zeroes_decims = get_decimals(zeroes)\n",
    "plt.hist(ones_decims, bins=61)\n",
    "plt.hist(zeroes_decims, bins=61)"
   ]
  },
  {
   "cell_type": "code",
   "execution_count": null,
   "metadata": {},
   "outputs": [],
   "source": [
    "np.max(ones_decims) - np.min(zeroes_decims)"
   ]
  },
  {
   "cell_type": "code",
   "execution_count": null,
   "metadata": {},
   "outputs": [],
   "source": []
  }
 ],
 "metadata": {
  "kernelspec": {
   "display_name": "Python 3",
   "language": "python",
   "name": "python3"
  },
  "language_info": {
   "codemirror_mode": {
    "name": "ipython",
    "version": 3
   },
   "file_extension": ".py",
   "mimetype": "text/x-python",
   "name": "python",
   "nbconvert_exporter": "python",
   "pygments_lexer": "ipython3",
   "version": "3.6.7"
  }
 },
 "nbformat": 4,
 "nbformat_minor": 2
}
