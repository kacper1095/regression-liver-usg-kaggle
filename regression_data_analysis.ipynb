{
 "cells": [
  {
   "cell_type": "code",
   "execution_count": null,
   "metadata": {},
   "outputs": [],
   "source": [
    "from pathlib import Path\n",
    "from collections import defaultdict, Counter\n",
    "from typing import Any\n",
    "from pprint import pprint\n",
    "from sklearn.preprocessing import LabelEncoder\n",
    "\n",
    "import scipy.stats as sp_stats\n",
    "import pickle as pkl\n",
    "import json\n",
    "import numpy as np\n",
    "import matplotlib.pyplot as plt"
   ]
  },
  {
   "cell_type": "code",
   "execution_count": null,
   "metadata": {},
   "outputs": [],
   "source": [
    "DATASETS_PATH = Path('/data/Datasets/usg-kaggle/train/')"
   ]
  },
  {
   "cell_type": "code",
   "execution_count": null,
   "metadata": {},
   "outputs": [],
   "source": [
    "zeroes = list((DATASETS_PATH / \"0\").rglob('regression*'))\n",
    "ones = list((DATASETS_PATH / \"1\").rglob(\"regression*\"))\n",
    "len(zeroes), len(ones)"
   ]
  },
  {
   "cell_type": "code",
   "execution_count": null,
   "metadata": {},
   "outputs": [],
   "source": [
    "def get_stats(paths: list) -> dict:\n",
    "    results = defaultdict(list)\n",
    "    for path in paths:\n",
    "        datum = json.loads(path.read_text())\n",
    "        for key, value in datum.items():\n",
    "            results[key].append(value)\n",
    "            \n",
    "    plt.figure()\n",
    "    plt.hist(results[\"mean\"], bins=30)\n",
    "    print(np.median(results[\"mean\"]))\n",
    "                \n",
    "    return {\n",
    "        \"sd\": np.mean(results[\"sd\"]),\n",
    "        \"min\": np.min(results[\"min\"]),\n",
    "        \"max\": np.max(results[\"max\"]),\n",
    "        \"mean\": np.mean(results[\"mean\"])\n",
    "    }\n",
    "\n",
    "def get_mean_stats(paths: list) -> dict:\n",
    "    means_stats = []\n",
    "    for path in paths:\n",
    "        datum = json.loads(path.read_text())\n",
    "        means_stats.append(datum[\"mean\"])\n",
    "                \n",
    "    return {\n",
    "        \"sd\": np.std(means_stats),\n",
    "        \"min\": np.min(means_stats),\n",
    "        \"max\": np.max(means_stats),\n",
    "        \"mean\": np.mean(means_stats)\n",
    "    }\n",
    "\n",
    "def get_unique_decimals(paths: list) -> set:\n",
    "    decimals = []\n",
    "    for path in paths:\n",
    "        datum = json.loads(path.read_text())\n",
    "        decimals.append(int(datum[\"mean\"]))\n",
    "    return set(decimals)\n",
    "\n",
    "def get_decimals(paths: list) -> list:\n",
    "    decimals = []\n",
    "    for path in paths:\n",
    "        datum = json.loads(path.read_text())\n",
    "        decimals.append(int(datum[\"mean\"]))\n",
    "    return decimals\n",
    "\n",
    "\n",
    "def get_floats(paths: list) -> list:\n",
    "    decimals = []\n",
    "    for path in paths:\n",
    "        datum = json.loads(path.read_text())\n",
    "        decimals.append(datum[\"mean\"])\n",
    "    return decimals\n",
    "\n",
    "def get_unique_floats(paths: list) -> set:\n",
    "    floats = []\n",
    "    for path in paths:\n",
    "        datum = json.loads(path.read_text())\n",
    "        floats.append(int(datum[\"mean\"] * 10) % 10)\n",
    "    return set(floats)"
   ]
  },
  {
   "cell_type": "code",
   "execution_count": null,
   "metadata": {},
   "outputs": [],
   "source": [
    "get_stats(zeroes), get_stats(ones)"
   ]
  },
  {
   "cell_type": "code",
   "execution_count": null,
   "metadata": {},
   "outputs": [],
   "source": [
    "get_mean_stats(zeroes), get_mean_stats(ones)"
   ]
  },
  {
   "cell_type": "code",
   "execution_count": null,
   "metadata": {},
   "outputs": [],
   "source": [
    "decimals = list(get_unique_decimals(zeroes + ones))\n",
    "np.min(decimals), np.max(decimals)"
   ]
  },
  {
   "cell_type": "code",
   "execution_count": null,
   "metadata": {},
   "outputs": [],
   "source": [
    "get_unique_floats(zeroes + ones)"
   ]
  },
  {
   "cell_type": "code",
   "execution_count": null,
   "metadata": {},
   "outputs": [],
   "source": [
    "def get_threshold_split(ones, zeroes, bins=20):\n",
    "    together = np.asarray(ones + zeroes)\n",
    "    true_labels = np.asarray(\n",
    "        [1] * len(ones) + [0] * len(zeroes)\n",
    "    )\n",
    "    thresholds = np.linspace(\n",
    "        np.min(together) + 1,\n",
    "        np.max(together) - 1,\n",
    "        200,\n",
    "        dtype=np.int\n",
    "    )\n",
    "    \n",
    "    best_thr = -1\n",
    "    best_entr = np.inf\n",
    "    print(together)\n",
    "    \n",
    "    for thr in thresholds:\n",
    "        indices_left_split = np.where(together < thr)[0]\n",
    "        indices_right_split = np.where(together >= thr)[0]\n",
    "    \n",
    "        preds = np.zeros_like(true_labels).astype(np.float32)\n",
    "        preds[indices_left_split] = 0.01\n",
    "        preds[indices_right_split] = 0.99\n",
    "        \n",
    "        \n",
    "        entropy = -np.sum(true_labels * np.log(preds) + (1 - true_labels) * np.log(1 - preds))\n",
    "\n",
    "        if entropy < best_entr:\n",
    "            best_entr = entropy\n",
    "            best_thr = thr\n",
    "            \n",
    "    plt.figure(figsize=(18, 6))\n",
    "    plt.hist(ones_decims, bins=20)\n",
    "    plt.hist(zeroes_decims, bins=20)\n",
    "    plt.axvline(x=best_thr)\n",
    "    \n",
    "    return best_thr"
   ]
  },
  {
   "cell_type": "code",
   "execution_count": null,
   "metadata": {},
   "outputs": [],
   "source": [
    "ones_decims = get_floats(ones)\n",
    "zeroes_decims = get_floats(zeroes)\n",
    "plt.hist(ones_decims, bins=20)\n",
    "plt.hist(zeroes_decims, bins=20)\n",
    "print()"
   ]
  },
  {
   "cell_type": "code",
   "execution_count": null,
   "metadata": {},
   "outputs": [],
   "source": [
    "best_thr = get_threshold_split(ones_decims, zeroes_decims)\n",
    "print(\"Best threshold: \" + str(best_thr))"
   ]
  },
  {
   "cell_type": "code",
   "execution_count": null,
   "metadata": {},
   "outputs": [],
   "source": [
    "sp_stats.mode(ones_decims), sp_stats.mode(zeroes_decims)"
   ]
  },
  {
   "cell_type": "code",
   "execution_count": null,
   "metadata": {},
   "outputs": [],
   "source": [
    "np.median(ones_decims), np.median(zeroes_decims)"
   ]
  },
  {
   "cell_type": "code",
   "execution_count": null,
   "metadata": {},
   "outputs": [],
   "source": [
    "np.mean(ones_decims), np.mean(zeroes_decims)"
   ]
  },
  {
   "cell_type": "code",
   "execution_count": null,
   "metadata": {},
   "outputs": [],
   "source": [
    "np.max(ones_decims) - np.min(zeroes_decims)"
   ]
  },
  {
   "cell_type": "code",
   "execution_count": null,
   "metadata": {},
   "outputs": [],
   "source": [
    "total = np.asarray(ones_decims + zeroes_decims)\n",
    "plt.hist(total / 4, bins=20)\n",
    "print()"
   ]
  },
  {
   "cell_type": "code",
   "execution_count": null,
   "metadata": {},
   "outputs": [],
   "source": []
  }
 ],
 "metadata": {
  "kernelspec": {
   "display_name": "Python 3",
   "language": "python",
   "name": "python3"
  },
  "language_info": {
   "codemirror_mode": {
    "name": "ipython",
    "version": 3
   },
   "file_extension": ".py",
   "mimetype": "text/x-python",
   "name": "python",
   "nbconvert_exporter": "python",
   "pygments_lexer": "ipython3",
   "version": "3.6.7"
  }
 },
 "nbformat": 4,
 "nbformat_minor": 2
}
